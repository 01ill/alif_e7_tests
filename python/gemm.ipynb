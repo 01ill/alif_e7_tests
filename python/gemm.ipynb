{
 "cells": [
  {
   "cell_type": "code",
   "execution_count": 1,
   "metadata": {},
   "outputs": [],
   "source": [
    "import numpy as np"
   ]
  },
  {
   "cell_type": "code",
   "execution_count": 13,
   "metadata": {},
   "outputs": [
    {
     "name": "stdout",
     "output_type": "stream",
     "text": [
      "[[ 0.  1.  2.  3.]\n",
      " [ 4.  5.  6.  7.]\n",
      " [ 8.  9. 10. 11.]\n",
      " [12. 13. 14. 15.]] [[ 0.  1.  2.  3.  4.  5.]\n",
      " [ 6.  7.  8.  9. 10. 11.]\n",
      " [12. 13. 14. 15. 16. 17.]\n",
      " [18. 19. 20. 21. 22. 23.]] [[0. 0. 0. 0. 0. 0.]\n",
      " [0. 0. 0. 0. 0. 0.]\n",
      " [0. 0. 0. 0. 0. 0.]\n",
      " [0. 0. 0. 0. 0. 0.]]\n"
     ]
    }
   ],
   "source": [
    "a = np.array([[0,1,2,3], [4,5,6,7], [8,9,10,11], [12,13,14,15]], dtype=np.float32)\n",
    "b = np.array([[0,1,2,3,4,5], [6,7,8,9,10,11], [12,13,14,15,16,17], [18,19,20,21,22,23]], dtype=np.float32)\n",
    "c = np.zeros((4, 6), dtype=np.float32)\n",
    "print(a,b,c)\n",
    "for i in range(100000):\n",
    "    c += a @ b"
   ]
  },
  {
   "cell_type": "code",
   "execution_count": 15,
   "metadata": {},
   "outputs": [
    {
     "name": "stdout",
     "output_type": "stream",
     "text": [
      "[[ 8400000.  9000000.  9600000. 10200000. 10800000. 11400000.]\n",
      " [22800000. 25000000. 27200000. 29400000. 31600000. 33798552.]\n",
      " [37200000. 40963680. 44800000. 48661912. 52400000. 56119416.]\n",
      " [51600000. 56917736. 62400000. 67901016. 73233280. 78485384.]]\n",
      "[[ 84.  90.  96. 102. 108. 114.]\n",
      " [228. 250. 272. 294. 316. 338.]\n",
      " [372. 410. 448. 486. 524. 562.]\n",
      " [516. 570. 624. 678. 732. 786.]]\n"
     ]
    }
   ],
   "source": [
    "print(c)\n",
    "print(a @ b)"
   ]
  },
  {
   "cell_type": "code",
   "execution_count": null,
   "metadata": {},
   "outputs": [],
   "source": []
  }
 ],
 "metadata": {
  "kernelspec": {
   "display_name": "base",
   "language": "python",
   "name": "python3"
  },
  "language_info": {
   "codemirror_mode": {
    "name": "ipython",
    "version": 3
   },
   "file_extension": ".py",
   "mimetype": "text/x-python",
   "name": "python",
   "nbconvert_exporter": "python",
   "pygments_lexer": "ipython3",
   "version": "3.12.9"
  }
 },
 "nbformat": 4,
 "nbformat_minor": 2
}
